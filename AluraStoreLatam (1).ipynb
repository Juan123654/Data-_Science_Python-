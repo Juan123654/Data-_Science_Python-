{
  "cells": [
    {
      "cell_type": "markdown",
      "metadata": {
        "id": "RhEdWd9YUR6H"
      },
      "source": [
        "### Importación de datos\n",
        "\n"
      ]
    },
    {
      "cell_type": "code",
      "execution_count": 30,
      "metadata": {
        "colab": {
          "base_uri": "https://localhost:8080/",
          "height": 206
        },
        "id": "T3EvaeQ_INIL",
        "outputId": "e9c5efe1-82a3-43ab-e8d7-6d01e4fa3514"
      },
      "outputs": [
        {
          "data": {
            "text/html": [
              "<div>\n",
              "<style scoped>\n",
              "    .dataframe tbody tr th:only-of-type {\n",
              "        vertical-align: middle;\n",
              "    }\n",
              "\n",
              "    .dataframe tbody tr th {\n",
              "        vertical-align: top;\n",
              "    }\n",
              "\n",
              "    .dataframe thead th {\n",
              "        text-align: right;\n",
              "    }\n",
              "</style>\n",
              "<table border=\"1\" class=\"dataframe\">\n",
              "  <thead>\n",
              "    <tr style=\"text-align: right;\">\n",
              "      <th></th>\n",
              "      <th>Producto</th>\n",
              "      <th>Categoría del Producto</th>\n",
              "      <th>Precio</th>\n",
              "      <th>Costo de envío</th>\n",
              "      <th>Fecha de Compra</th>\n",
              "      <th>Vendedor</th>\n",
              "      <th>Lugar de Compra</th>\n",
              "      <th>Calificación</th>\n",
              "      <th>Método de pago</th>\n",
              "      <th>Cantidad de cuotas</th>\n",
              "      <th>lat</th>\n",
              "      <th>lon</th>\n",
              "    </tr>\n",
              "  </thead>\n",
              "  <tbody>\n",
              "    <tr>\n",
              "      <th>0</th>\n",
              "      <td>Asistente virtual</td>\n",
              "      <td>Electrónicos</td>\n",
              "      <td>164300.0</td>\n",
              "      <td>6900.0</td>\n",
              "      <td>16/01/2021</td>\n",
              "      <td>Pedro Gomez</td>\n",
              "      <td>Bogotá</td>\n",
              "      <td>4</td>\n",
              "      <td>Tarjeta de crédito</td>\n",
              "      <td>8</td>\n",
              "      <td>4.60971</td>\n",
              "      <td>-74.08175</td>\n",
              "    </tr>\n",
              "    <tr>\n",
              "      <th>1</th>\n",
              "      <td>Mesa de comedor</td>\n",
              "      <td>Muebles</td>\n",
              "      <td>192300.0</td>\n",
              "      <td>8400.0</td>\n",
              "      <td>18/05/2022</td>\n",
              "      <td>Beatriz Morales</td>\n",
              "      <td>Medellín</td>\n",
              "      <td>1</td>\n",
              "      <td>Tarjeta de crédito</td>\n",
              "      <td>4</td>\n",
              "      <td>6.25184</td>\n",
              "      <td>-75.56359</td>\n",
              "    </tr>\n",
              "    <tr>\n",
              "      <th>2</th>\n",
              "      <td>Juego de mesa</td>\n",
              "      <td>Juguetes</td>\n",
              "      <td>209600.0</td>\n",
              "      <td>15900.0</td>\n",
              "      <td>15/03/2021</td>\n",
              "      <td>Juan Fernandez</td>\n",
              "      <td>Cartagena</td>\n",
              "      <td>1</td>\n",
              "      <td>Tarjeta de crédito</td>\n",
              "      <td>1</td>\n",
              "      <td>10.39972</td>\n",
              "      <td>-75.51444</td>\n",
              "    </tr>\n",
              "    <tr>\n",
              "      <th>3</th>\n",
              "      <td>Microondas</td>\n",
              "      <td>Electrodomésticos</td>\n",
              "      <td>757500.0</td>\n",
              "      <td>41000.0</td>\n",
              "      <td>03/05/2022</td>\n",
              "      <td>Juan Fernandez</td>\n",
              "      <td>Cali</td>\n",
              "      <td>4</td>\n",
              "      <td>Nequi</td>\n",
              "      <td>1</td>\n",
              "      <td>3.43722</td>\n",
              "      <td>-76.52250</td>\n",
              "    </tr>\n",
              "    <tr>\n",
              "      <th>4</th>\n",
              "      <td>Silla de oficina</td>\n",
              "      <td>Muebles</td>\n",
              "      <td>335200.0</td>\n",
              "      <td>20200.0</td>\n",
              "      <td>07/11/2020</td>\n",
              "      <td>Maria Alfonso</td>\n",
              "      <td>Medellín</td>\n",
              "      <td>5</td>\n",
              "      <td>Nequi</td>\n",
              "      <td>1</td>\n",
              "      <td>6.25184</td>\n",
              "      <td>-75.56359</td>\n",
              "    </tr>\n",
              "  </tbody>\n",
              "</table>\n",
              "</div>"
            ],
            "text/plain": [
              "            Producto Categoría del Producto    Precio  Costo de envío  \\\n",
              "0  Asistente virtual           Electrónicos  164300.0          6900.0   \n",
              "1    Mesa de comedor                Muebles  192300.0          8400.0   \n",
              "2      Juego de mesa               Juguetes  209600.0         15900.0   \n",
              "3         Microondas      Electrodomésticos  757500.0         41000.0   \n",
              "4   Silla de oficina                Muebles  335200.0         20200.0   \n",
              "\n",
              "  Fecha de Compra         Vendedor Lugar de Compra  Calificación  \\\n",
              "0      16/01/2021      Pedro Gomez          Bogotá             4   \n",
              "1      18/05/2022  Beatriz Morales        Medellín             1   \n",
              "2      15/03/2021   Juan Fernandez       Cartagena             1   \n",
              "3      03/05/2022   Juan Fernandez            Cali             4   \n",
              "4      07/11/2020    Maria Alfonso        Medellín             5   \n",
              "\n",
              "       Método de pago  Cantidad de cuotas       lat       lon  \n",
              "0  Tarjeta de crédito                   8   4.60971 -74.08175  \n",
              "1  Tarjeta de crédito                   4   6.25184 -75.56359  \n",
              "2  Tarjeta de crédito                   1  10.39972 -75.51444  \n",
              "3               Nequi                   1   3.43722 -76.52250  \n",
              "4               Nequi                   1   6.25184 -75.56359  "
            ]
          },
          "execution_count": 30,
          "metadata": {},
          "output_type": "execute_result"
        }
      ],
      "source": [
        "import pandas as pd\n",
        "\n",
        "url = \"https://raw.githubusercontent.com/alura-es-cursos/challenge1-data-science-latam/refs/heads/main/base-de-datos-challenge1-latam/tienda_1%20.csv\"\n",
        "url2 = \"https://raw.githubusercontent.com/alura-es-cursos/challenge1-data-science-latam/refs/heads/main/base-de-datos-challenge1-latam/tienda_2.csv\"\n",
        "url3 = \"https://raw.githubusercontent.com/alura-es-cursos/challenge1-data-science-latam/refs/heads/main/base-de-datos-challenge1-latam/tienda_3.csv\"\n",
        "url4 = \"https://raw.githubusercontent.com/alura-es-cursos/challenge1-data-science-latam/refs/heads/main/base-de-datos-challenge1-latam/tienda_4.csv\"\n",
        "\n",
        "tienda1 = pd.read_csv(url)\n",
        "tienda2 = pd.read_csv(url2)\n",
        "tienda3 = pd.read_csv(url3)\n",
        "tienda4 = pd.read_csv(url4)\n",
        "\n",
        "tienda1.head()"
      ]
    },
    {
      "cell_type": "markdown",
      "metadata": {
        "id": "X62IW3KFUIYm"
      },
      "source": [
        "#1. Análisis de facturación\n",
        "<ol><li>Calcular el ingreso total de cada tienda. Sumando los valores de la columna Precio</li>\n",
        "<li>Calcular la cantidad de productos vendidos por categoría en cada tienda. La idea es agrupar los datos por categoría y contar el número de ventas de cada tipo, mostrando las categorías más populares de cada tienda.</li>\n",
        "<li>Calcular las calificaciones promedio de los clientes para cada tienda. El objetivo es conocer la satisfacción del cliente con los productos vendidos.</li><li>Identificar qué productos fueron los más vendidos y los menos vendidos en cada tienda. Visualiza los resultados para que quede claro qué productos destacaron en ventas en cada tienda.</li><li> Calcular el costo de envío promedio para cada tienda. El objetivo es comprender cuánto se gasta, en promedio, en el envío de cada tienda.</li></ol>"
      ]
    },
    {
      "cell_type": "markdown",
      "metadata": {},
      "source": []
    },
    {
      "cell_type": "markdown",
      "metadata": {},
      "source": [
        "# 1. Ingresos"
      ]
    },
    {
      "cell_type": "code",
      "execution_count": 31,
      "metadata": {
        "id": "xykobSftV64I"
      },
      "outputs": [
        {
          "name": "stdout",
          "output_type": "stream",
          "text": [
            "Tienda 1: 1150880400.0 \n",
            "Tienda 2: 1116343500.0 \n",
            "Tienda 3: 1098019600.0 \n",
            "Tienda 4: 1038375700.0     \n"
          ]
        }
      ],
      "source": [
        "# Calcular ingresos para cada tienda\n",
        "ingreso_tienda1 = (tienda1['Precio']).sum()\n",
        "ingreso_tienda2 = (tienda2['Precio']).sum()\n",
        "ingreso_tienda3 = (tienda3['Precio']).sum()\n",
        "ingreso_tienda4 = (tienda4['Precio']).sum()\n",
        "\n",
        "print(f'Tienda 1: {ingreso_tienda1} \\nTienda 2: {ingreso_tienda2} \\nTienda 3: {ingreso_tienda3} \\nTienda 4: {ingreso_tienda4}     ')\n"
      ]
    },
    {
      "cell_type": "markdown",
      "metadata": {
        "id": "2V_vcAPzWZmR"
      },
      "source": [
        "# 2. Ventas por categoría"
      ]
    },
    {
      "cell_type": "code",
      "execution_count": 48,
      "metadata": {
        "id": "A34YupIuYhfF"
      },
      "outputs": [
        {
          "name": "stdout",
          "output_type": "stream",
          "text": [
            "Tienda 1 - Ventas por categoría:\n",
            "Categoría del Producto\n",
            "Muebles                 465\n",
            "Electrónicos            448\n",
            "Juguetes                324\n",
            "Electrodomésticos       312\n",
            "Deportes y diversión    284\n",
            "Name: count, dtype: int64\n",
            "Tienda 2 - Ventas por categoría:\n",
            "Categoría del Producto\n",
            "Muebles                 442\n",
            "Electrónicos            422\n",
            "Juguetes                313\n",
            "Electrodomésticos       305\n",
            "Deportes y diversión    275\n",
            "Name: count, dtype: int64\n",
            "Tienda 3 - Ventas por categoría:\n",
            "Categoría del Producto\n",
            "Muebles                 499\n",
            "Electrónicos            451\n",
            "Juguetes                315\n",
            "Electrodomésticos       278\n",
            "Deportes y diversión    277\n",
            "Name: count, dtype: int64\n",
            "Tienda 4 - Ventas por categoría:\n",
            "Categoría del Producto\n",
            "Muebles                 480\n",
            "Electrónicos            451\n",
            "Juguetes                338\n",
            "Deportes y diversión    277\n",
            "Electrodomésticos       254\n",
            "Name: count, dtype: int64\n"
          ]
        }
      ],
      "source": [
        "ventas_por_categoria1 = tienda1.groupby('Categoría del Producto')['Categoría del Producto'].value_counts().sort_values(ascending=False                                                                                                             )\n",
        "print(\"Tienda 1 - Ventas por categoría:\")\n",
        "print(ventas_por_categoria1.head())\n",
        "\n",
        "ventas_por_categoria2 = tienda2.groupby('Categoría del Producto')['Categoría del Producto'].value_counts().sort_values(ascending=False                                                                                                             )\n",
        "print(\"Tienda 2 - Ventas por categoría:\")\n",
        "print(ventas_por_categoria2.head())\n",
        "\n",
        "ventas_por_categoria3 = tienda3.groupby('Categoría del Producto')['Categoría del Producto'].value_counts().sort_values(ascending=False                                                                                                             )\n",
        "print(\"Tienda 3 - Ventas por categoría:\")\n",
        "print(ventas_por_categoria3.head())\n",
        "\n",
        "ventas_por_categoria4 = tienda4.groupby('Categoría del Producto')['Categoría del Producto'].value_counts().sort_values(ascending=False                                                                                                             )\n",
        "print(\"Tienda 4 - Ventas por categoría:\")\n",
        "print(ventas_por_categoria4.head())"
      ]
    },
    {
      "cell_type": "markdown",
      "metadata": {
        "id": "Rq6tU_xSY3jk"
      },
      "source": [
        "# 3. Calificación promedio de la tienda\n"
      ]
    },
    {
      "cell_type": "code",
      "execution_count": 50,
      "metadata": {
        "id": "bh3jjjJwY5MU"
      },
      "outputs": [
        {
          "name": "stdout",
          "output_type": "stream",
          "text": [
            "--- Calificaciones promedio por tienda ---\n",
            "Tienda 1: 3.98\n",
            "Tienda 2: 4.04\n",
            "Tienda 3: 4.05\n",
            "Tienda 4: 4.00\n"
          ]
        }
      ],
      "source": [
        "# Calcular promedio de calificaciones para cada tienda\n",
        "promedio_tienda1 = tienda1['Calificación'].mean()\n",
        "promedio_tienda2 = tienda2['Calificación'].mean()\n",
        "promedio_tienda3 = tienda3['Calificación'].mean()\n",
        "promedio_tienda4 = tienda4['Calificación'].mean()\n",
        "\n",
        "# Mostrar resultados\n",
        "print(\"--- Calificaciones promedio por tienda ---\")\n",
        "print(f\"Tienda 1: {promedio_tienda1:.2f}\")\n",
        "print(f\"Tienda 2: {promedio_tienda2:.2f}\")\n",
        "print(f\"Tienda 3: {promedio_tienda3:.2f}\")\n",
        "print(f\"Tienda 4: {promedio_tienda4:.2f}\")"
      ]
    },
    {
      "cell_type": "markdown",
      "metadata": {
        "id": "DmNp1KPBZCm-"
      },
      "source": [
        "# 4. Productos más y menos vendidos"
      ]
    },
    {
      "cell_type": "code",
      "execution_count": 53,
      "metadata": {
        "id": "qoyjqijQZHfF"
      },
      "outputs": [],
      "source": [
        "# Tienda 1\n",
        "ventas_tienda1 = tienda1.groupby('Categoría del Producto')['Categoría del Producto'].sum().sort_values(ascending=False)\n",
        "mas_vendido_t1 = ventas_tienda1.head(1)  # Producto más vendido\n",
        "menos_vendido_t1 = ventas_tienda1.tail(1)  # Producto menos vendido\n",
        "\n",
        "# Repetir para las demás tiendas (similar para tienda2, tienda3, tienda4)"
      ]
    },
    {
      "cell_type": "code",
      "execution_count": 61,
      "metadata": {
        "id": "0Sw3sd4IZIGW"
      },
      "outputs": [
        {
          "data": {
            "image/png": "[encoded data removed]",
            "text/plain": [
              "<Figure size 600x300 with 1 Axes>"
            ]
          },
          "metadata": {},
          "output_type": "display_data"
        },
        {
          "data": {
            "image/png": "[encoded data removed]",
            "text/plain": [
              "<Figure size 600x300 with 1 Axes>"
            ]
          },
          "metadata": {},
          "output_type": "display_data"
        }
      ],
      "source": [
        "import matplotlib.pyplot as plt\n",
        "top_productos_t1 = tienda1['Producto'].value_counts().head(5)  # Top 5 productos\n",
        "\n",
        "# Convertir a DataFrame y resetear índice\n",
        "top_productos_t1_df = top_productos_t1.reset_index()\n",
        "top_productos_t1_df.columns = ['Producto', 'Ventas']  # Renombrar columnas\n",
        "\n",
        "# Graficar\n",
        "plt.figure(figsize=(6, 3))\n",
        "plt.bar(top_productos_t1_df['Producto'], top_productos_t1_df['Ventas'], color='skyblue')\n",
        "plt.title('Top 5 Productos Más Vendidos - Tienda 1')\n",
        "plt.xlabel('Producto')\n",
        "plt.ylabel('Número de Ventas')\n",
        "plt.xticks(rotation=45, ha='right')  # Rotar nombres para mejor lectura\n",
        "plt.tight_layout()\n",
        "plt.show()\n",
        "\n",
        "# Calcular los 5 productos menos vendidos en Tienda 1\n",
        "menos_vendidos_t1 = tienda1['Producto'].value_counts().tail(5)  # Bottom 5 productos\n",
        "\n",
        "# Convertir a DataFrame y renombrar columnas\n",
        "menos_vendidos_t1_df = menos_vendidos_t1.reset_index()\n",
        "menos_vendidos_t1_df.columns = ['Producto', 'Ventas']\n",
        "\n",
        "# Graficar\n",
        "plt.figure(figsize=(6, 3))\n",
        "plt.bar(menos_vendidos_t1_df['Producto'], menos_vendidos_t1_df['Ventas'], color='salmon')\n",
        "plt.title('Top 5 Productos Menos Vendidos - Tienda 1', fontweight='bold')\n",
        "plt.xlabel('Producto')\n",
        "plt.ylabel('Número de Ventas')\n",
        "plt.xticks(rotation=45, ha='right')  # Rotar etiquetas para legibilidad\n",
        "plt.tight_layout()\n",
        "plt.show()\n",
        "\n"
      ]
    },
    {
      "cell_type": "markdown",
      "metadata": {
        "id": "Fl0cGi3bZKqU"
      },
      "source": [
        "# 5. Envío promedio por tienda"
      ]
    },
    {
      "cell_type": "code",
      "execution_count": null,
      "metadata": {
        "id": "S2JeaCykZNy9"
      },
      "outputs": [],
      "source": []
    },
    {
      "cell_type": "code",
      "execution_count": null,
      "metadata": {
        "id": "0tSdCie9ZQlt"
      },
      "outputs": [],
      "source": []
    }
  ],
  "metadata": {
    "colab": {
      "provenance": []
    },
    "kernelspec": {
      "display_name": "Python 3",
      "name": "python3"
    },
    "language_info": {
      "codemirror_mode": {
        "name": "ipython",
        "version": 3
      },
      "file_extension": ".py",
      "mimetype": "text/x-python",
      "name": "python",
      "nbconvert_exporter": "python",
      "pygments_lexer": "ipython3",
      "version": "3.12.6"
    }
  },
  "nbformat": 4,
  "nbformat_minor": 0
}
